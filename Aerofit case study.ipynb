{
 "cells": [
  {
   "cell_type": "code",
   "execution_count": 1,
   "id": "32e530d8",
   "metadata": {},
   "outputs": [],
   "source": [
    "import pandas as pd\n",
    "import numpy as np\n",
    "import seaborn as sns\n",
    "import matplotlib.pyplot as plt"
   ]
  },
  {
   "cell_type": "code",
   "execution_count": 2,
   "id": "5ff7565e",
   "metadata": {},
   "outputs": [],
   "source": [
    "df = pd.read_csv(\"aerofit.csv\")"
   ]
  },
  {
   "cell_type": "code",
   "execution_count": 3,
   "id": "18ae0e86",
   "metadata": {},
   "outputs": [
    {
     "data": {
      "text/plain": [
       "(180, 9)"
      ]
     },
     "execution_count": 3,
     "metadata": {},
     "output_type": "execute_result"
    }
   ],
   "source": [
    "df.shape"
   ]
  },
  {
   "cell_type": "code",
   "execution_count": 4,
   "id": "c6d65ba4",
   "metadata": {},
   "outputs": [
    {
     "data": {
      "text/html": [
       "<div>\n",
       "<style scoped>\n",
       "    .dataframe tbody tr th:only-of-type {\n",
       "        vertical-align: middle;\n",
       "    }\n",
       "\n",
       "    .dataframe tbody tr th {\n",
       "        vertical-align: top;\n",
       "    }\n",
       "\n",
       "    .dataframe thead th {\n",
       "        text-align: right;\n",
       "    }\n",
       "</style>\n",
       "<table border=\"1\" class=\"dataframe\">\n",
       "  <thead>\n",
       "    <tr style=\"text-align: right;\">\n",
       "      <th></th>\n",
       "      <th>Product</th>\n",
       "      <th>Age</th>\n",
       "      <th>Gender</th>\n",
       "      <th>Education</th>\n",
       "      <th>MaritalStatus</th>\n",
       "      <th>Usage</th>\n",
       "      <th>Fitness</th>\n",
       "      <th>Income</th>\n",
       "      <th>Miles</th>\n",
       "    </tr>\n",
       "  </thead>\n",
       "  <tbody>\n",
       "    <tr>\n",
       "      <th>0</th>\n",
       "      <td>KP281</td>\n",
       "      <td>18</td>\n",
       "      <td>Male</td>\n",
       "      <td>14</td>\n",
       "      <td>Single</td>\n",
       "      <td>3</td>\n",
       "      <td>4</td>\n",
       "      <td>29562</td>\n",
       "      <td>112</td>\n",
       "    </tr>\n",
       "    <tr>\n",
       "      <th>1</th>\n",
       "      <td>KP281</td>\n",
       "      <td>19</td>\n",
       "      <td>Male</td>\n",
       "      <td>15</td>\n",
       "      <td>Single</td>\n",
       "      <td>2</td>\n",
       "      <td>3</td>\n",
       "      <td>31836</td>\n",
       "      <td>75</td>\n",
       "    </tr>\n",
       "    <tr>\n",
       "      <th>2</th>\n",
       "      <td>KP281</td>\n",
       "      <td>19</td>\n",
       "      <td>Female</td>\n",
       "      <td>14</td>\n",
       "      <td>Partnered</td>\n",
       "      <td>4</td>\n",
       "      <td>3</td>\n",
       "      <td>30699</td>\n",
       "      <td>66</td>\n",
       "    </tr>\n",
       "    <tr>\n",
       "      <th>3</th>\n",
       "      <td>KP281</td>\n",
       "      <td>19</td>\n",
       "      <td>Male</td>\n",
       "      <td>12</td>\n",
       "      <td>Single</td>\n",
       "      <td>3</td>\n",
       "      <td>3</td>\n",
       "      <td>32973</td>\n",
       "      <td>85</td>\n",
       "    </tr>\n",
       "    <tr>\n",
       "      <th>4</th>\n",
       "      <td>KP281</td>\n",
       "      <td>20</td>\n",
       "      <td>Male</td>\n",
       "      <td>13</td>\n",
       "      <td>Partnered</td>\n",
       "      <td>4</td>\n",
       "      <td>2</td>\n",
       "      <td>35247</td>\n",
       "      <td>47</td>\n",
       "    </tr>\n",
       "  </tbody>\n",
       "</table>\n",
       "</div>"
      ],
      "text/plain": [
       "  Product  Age  Gender  Education MaritalStatus  Usage  Fitness  Income  Miles\n",
       "0   KP281   18    Male         14        Single      3        4   29562    112\n",
       "1   KP281   19    Male         15        Single      2        3   31836     75\n",
       "2   KP281   19  Female         14     Partnered      4        3   30699     66\n",
       "3   KP281   19    Male         12        Single      3        3   32973     85\n",
       "4   KP281   20    Male         13     Partnered      4        2   35247     47"
      ]
     },
     "execution_count": 4,
     "metadata": {},
     "output_type": "execute_result"
    }
   ],
   "source": [
    "df.head()"
   ]
  },
  {
   "cell_type": "code",
   "execution_count": 5,
   "id": "67bf5e56",
   "metadata": {},
   "outputs": [
    {
     "name": "stdout",
     "output_type": "stream",
     "text": [
      "<class 'pandas.core.frame.DataFrame'>\n",
      "RangeIndex: 180 entries, 0 to 179\n",
      "Data columns (total 9 columns):\n",
      " #   Column         Non-Null Count  Dtype \n",
      "---  ------         --------------  ----- \n",
      " 0   Product        180 non-null    object\n",
      " 1   Age            180 non-null    int64 \n",
      " 2   Gender         180 non-null    object\n",
      " 3   Education      180 non-null    int64 \n",
      " 4   MaritalStatus  180 non-null    object\n",
      " 5   Usage          180 non-null    int64 \n",
      " 6   Fitness        180 non-null    int64 \n",
      " 7   Income         180 non-null    int64 \n",
      " 8   Miles          180 non-null    int64 \n",
      "dtypes: int64(6), object(3)\n",
      "memory usage: 12.8+ KB\n"
     ]
    }
   ],
   "source": [
    "#basic exploration\n",
    "df.info()"
   ]
  },
  {
   "cell_type": "markdown",
   "id": "e91baae8",
   "metadata": {},
   "source": [
    "#### Observation:\n",
    "No null values"
   ]
  },
  {
   "cell_type": "code",
   "execution_count": 6,
   "id": "c17bc6cc",
   "metadata": {},
   "outputs": [
    {
     "data": {
      "text/plain": [
       "Product          0.0\n",
       "Age              0.0\n",
       "Gender           0.0\n",
       "Education        0.0\n",
       "MaritalStatus    0.0\n",
       "Usage            0.0\n",
       "Fitness          0.0\n",
       "Income           0.0\n",
       "Miles            0.0\n",
       "dtype: float64"
      ]
     },
     "execution_count": 6,
     "metadata": {},
     "output_type": "execute_result"
    }
   ],
   "source": [
    "df.isnull().sum()/df.shape[0] * 100  #proportion of missing values in %"
   ]
  },
  {
   "cell_type": "code",
   "execution_count": 7,
   "id": "9487d943",
   "metadata": {},
   "outputs": [
    {
     "data": {
      "text/html": [
       "<div>\n",
       "<style scoped>\n",
       "    .dataframe tbody tr th:only-of-type {\n",
       "        vertical-align: middle;\n",
       "    }\n",
       "\n",
       "    .dataframe tbody tr th {\n",
       "        vertical-align: top;\n",
       "    }\n",
       "\n",
       "    .dataframe thead th {\n",
       "        text-align: right;\n",
       "    }\n",
       "</style>\n",
       "<table border=\"1\" class=\"dataframe\">\n",
       "  <thead>\n",
       "    <tr style=\"text-align: right;\">\n",
       "      <th></th>\n",
       "      <th>Age</th>\n",
       "      <th>Education</th>\n",
       "      <th>Usage</th>\n",
       "      <th>Fitness</th>\n",
       "      <th>Income</th>\n",
       "      <th>Miles</th>\n",
       "    </tr>\n",
       "  </thead>\n",
       "  <tbody>\n",
       "    <tr>\n",
       "      <th>count</th>\n",
       "      <td>180.000000</td>\n",
       "      <td>180.000000</td>\n",
       "      <td>180.000000</td>\n",
       "      <td>180.000000</td>\n",
       "      <td>180.000000</td>\n",
       "      <td>180.000000</td>\n",
       "    </tr>\n",
       "    <tr>\n",
       "      <th>mean</th>\n",
       "      <td>28.788889</td>\n",
       "      <td>15.572222</td>\n",
       "      <td>3.455556</td>\n",
       "      <td>3.311111</td>\n",
       "      <td>53719.577778</td>\n",
       "      <td>103.194444</td>\n",
       "    </tr>\n",
       "    <tr>\n",
       "      <th>std</th>\n",
       "      <td>6.943498</td>\n",
       "      <td>1.617055</td>\n",
       "      <td>1.084797</td>\n",
       "      <td>0.958869</td>\n",
       "      <td>16506.684226</td>\n",
       "      <td>51.863605</td>\n",
       "    </tr>\n",
       "    <tr>\n",
       "      <th>min</th>\n",
       "      <td>18.000000</td>\n",
       "      <td>12.000000</td>\n",
       "      <td>2.000000</td>\n",
       "      <td>1.000000</td>\n",
       "      <td>29562.000000</td>\n",
       "      <td>21.000000</td>\n",
       "    </tr>\n",
       "    <tr>\n",
       "      <th>25%</th>\n",
       "      <td>24.000000</td>\n",
       "      <td>14.000000</td>\n",
       "      <td>3.000000</td>\n",
       "      <td>3.000000</td>\n",
       "      <td>44058.750000</td>\n",
       "      <td>66.000000</td>\n",
       "    </tr>\n",
       "    <tr>\n",
       "      <th>50%</th>\n",
       "      <td>26.000000</td>\n",
       "      <td>16.000000</td>\n",
       "      <td>3.000000</td>\n",
       "      <td>3.000000</td>\n",
       "      <td>50596.500000</td>\n",
       "      <td>94.000000</td>\n",
       "    </tr>\n",
       "    <tr>\n",
       "      <th>75%</th>\n",
       "      <td>33.000000</td>\n",
       "      <td>16.000000</td>\n",
       "      <td>4.000000</td>\n",
       "      <td>4.000000</td>\n",
       "      <td>58668.000000</td>\n",
       "      <td>114.750000</td>\n",
       "    </tr>\n",
       "    <tr>\n",
       "      <th>max</th>\n",
       "      <td>50.000000</td>\n",
       "      <td>21.000000</td>\n",
       "      <td>7.000000</td>\n",
       "      <td>5.000000</td>\n",
       "      <td>104581.000000</td>\n",
       "      <td>360.000000</td>\n",
       "    </tr>\n",
       "  </tbody>\n",
       "</table>\n",
       "</div>"
      ],
      "text/plain": [
       "              Age   Education       Usage     Fitness         Income  \\\n",
       "count  180.000000  180.000000  180.000000  180.000000     180.000000   \n",
       "mean    28.788889   15.572222    3.455556    3.311111   53719.577778   \n",
       "std      6.943498    1.617055    1.084797    0.958869   16506.684226   \n",
       "min     18.000000   12.000000    2.000000    1.000000   29562.000000   \n",
       "25%     24.000000   14.000000    3.000000    3.000000   44058.750000   \n",
       "50%     26.000000   16.000000    3.000000    3.000000   50596.500000   \n",
       "75%     33.000000   16.000000    4.000000    4.000000   58668.000000   \n",
       "max     50.000000   21.000000    7.000000    5.000000  104581.000000   \n",
       "\n",
       "            Miles  \n",
       "count  180.000000  \n",
       "mean   103.194444  \n",
       "std     51.863605  \n",
       "min     21.000000  \n",
       "25%     66.000000  \n",
       "50%     94.000000  \n",
       "75%    114.750000  \n",
       "max    360.000000  "
      ]
     },
     "execution_count": 7,
     "metadata": {},
     "output_type": "execute_result"
    }
   ],
   "source": [
    "df.describe()"
   ]
  },
  {
   "cell_type": "code",
   "execution_count": 8,
   "id": "fccc54b2",
   "metadata": {},
   "outputs": [
    {
     "data": {
      "text/plain": [
       "KP281    44.444444\n",
       "KP481    33.333333\n",
       "KP781    22.222222\n",
       "Name: Product, dtype: float64"
      ]
     },
     "execution_count": 8,
     "metadata": {},
     "output_type": "execute_result"
    }
   ],
   "source": [
    "df[\"Product\"].value_counts(normalize = True) * 100"
   ]
  },
  {
   "cell_type": "markdown",
   "id": "22a16b33",
   "metadata": {},
   "source": [
    "#### Observations :\n",
    "1) 44.44% of the people are buying KP281 which is an entry-level treadmill.  \n",
    "2) 33.33% of the people are buying KP481 which is mid-level treadmill.  \n",
    "3) 22.22% of the people are buying KP781 which is an advanced treadmill.  "
   ]
  },
  {
   "cell_type": "code",
   "execution_count": 9,
   "id": "4808c944",
   "metadata": {},
   "outputs": [
    {
     "data": {
      "text/html": [
       "<div>\n",
       "<style scoped>\n",
       "    .dataframe tbody tr th:only-of-type {\n",
       "        vertical-align: middle;\n",
       "    }\n",
       "\n",
       "    .dataframe tbody tr th {\n",
       "        vertical-align: top;\n",
       "    }\n",
       "\n",
       "    .dataframe thead th {\n",
       "        text-align: right;\n",
       "    }\n",
       "</style>\n",
       "<table border=\"1\" class=\"dataframe\">\n",
       "  <thead>\n",
       "    <tr style=\"text-align: right;\">\n",
       "      <th></th>\n",
       "      <th>count</th>\n",
       "      <th>mean</th>\n",
       "      <th>std</th>\n",
       "      <th>min</th>\n",
       "      <th>25%</th>\n",
       "      <th>50%</th>\n",
       "      <th>75%</th>\n",
       "      <th>max</th>\n",
       "    </tr>\n",
       "    <tr>\n",
       "      <th>Product</th>\n",
       "      <th></th>\n",
       "      <th></th>\n",
       "      <th></th>\n",
       "      <th></th>\n",
       "      <th></th>\n",
       "      <th></th>\n",
       "      <th></th>\n",
       "      <th></th>\n",
       "    </tr>\n",
       "  </thead>\n",
       "  <tbody>\n",
       "    <tr>\n",
       "      <th>KP281</th>\n",
       "      <td>80.0</td>\n",
       "      <td>46418.025</td>\n",
       "      <td>9075.783190</td>\n",
       "      <td>29562.0</td>\n",
       "      <td>38658.00</td>\n",
       "      <td>46617.0</td>\n",
       "      <td>53439.0</td>\n",
       "      <td>68220.0</td>\n",
       "    </tr>\n",
       "    <tr>\n",
       "      <th>KP481</th>\n",
       "      <td>60.0</td>\n",
       "      <td>48973.650</td>\n",
       "      <td>8653.989388</td>\n",
       "      <td>31836.0</td>\n",
       "      <td>44911.50</td>\n",
       "      <td>49459.5</td>\n",
       "      <td>53439.0</td>\n",
       "      <td>67083.0</td>\n",
       "    </tr>\n",
       "    <tr>\n",
       "      <th>KP781</th>\n",
       "      <td>40.0</td>\n",
       "      <td>75441.575</td>\n",
       "      <td>18505.836720</td>\n",
       "      <td>48556.0</td>\n",
       "      <td>58204.75</td>\n",
       "      <td>76568.5</td>\n",
       "      <td>90886.0</td>\n",
       "      <td>104581.0</td>\n",
       "    </tr>\n",
       "  </tbody>\n",
       "</table>\n",
       "</div>"
      ],
      "text/plain": [
       "         count       mean           std      min       25%      50%      75%  \\\n",
       "Product                                                                        \n",
       "KP281     80.0  46418.025   9075.783190  29562.0  38658.00  46617.0  53439.0   \n",
       "KP481     60.0  48973.650   8653.989388  31836.0  44911.50  49459.5  53439.0   \n",
       "KP781     40.0  75441.575  18505.836720  48556.0  58204.75  76568.5  90886.0   \n",
       "\n",
       "              max  \n",
       "Product            \n",
       "KP281     68220.0  \n",
       "KP481     67083.0  \n",
       "KP781    104581.0  "
      ]
     },
     "execution_count": 9,
     "metadata": {},
     "output_type": "execute_result"
    }
   ],
   "source": [
    "df.groupby(\"Product\")[\"Income\"].describe()"
   ]
  },
  {
   "cell_type": "code",
   "execution_count": 10,
   "id": "a5d8f3fa",
   "metadata": {},
   "outputs": [
    {
     "data": {
      "image/png": "[encoded data removed]",
      "text/plain": [
       "<Figure size 432x288 with 1 Axes>"
      ]
     },
     "metadata": {
      "needs_background": "light"
     },
     "output_type": "display_data"
    }
   ],
   "source": [
    "sns.boxplot(x = \"Product\", y = \"Income\" , data = df)\n",
    "plt.show()"
   ]
  },
  {
   "cell_type": "markdown",
   "id": "ae9a4469",
   "metadata": {},
   "source": [
    "#### Observations :\n",
    "1) There is no major difference in mean and median values of income ==> Less outliers.\n",
    "\n",
    "2) Mean income of people who buy KP281 is less than other two groups's mean income. \n",
    "\n",
    "3) People who buy KP781 have the highest mean income among all three groups."
   ]
  },
  {
   "cell_type": "code",
   "execution_count": 11,
   "id": "7da612bb",
   "metadata": {},
   "outputs": [
    {
     "data": {
      "image/png": "[encoded data removed]",
      "text/plain": [
       "<Figure size 432x288 with 1 Axes>"
      ]
     },
     "metadata": {
      "needs_background": "light"
     },
     "output_type": "display_data"
    }
   ],
   "source": [
    "sns.countplot(x = df[\"Gender\"], hue = df[\"Product\"])\n",
    "plt.show()"
   ]
  },
  {
   "cell_type": "markdown",
   "id": "dd5fb599",
   "metadata": {},
   "source": [
    "#### Observations:\n",
    "1) Very few females bought KP781 as compared to males.\n",
    "\n",
    "2) Both males and females have bought almost equal number of KP281 and KP481\n"
   ]
  },
  {
   "cell_type": "code",
   "execution_count": 12,
   "id": "f80978d8",
   "metadata": {},
   "outputs": [
    {
     "data": {
      "image/png": "[encoded data removed]",
      "text/plain": [
       "<Figure size 432x288 with 1 Axes>"
      ]
     },
     "metadata": {
      "needs_background": "light"
     },
     "output_type": "display_data"
    }
   ],
   "source": [
    "sns.countplot(x = df[\"MaritalStatus\"], hue = df[\"Product\"])\n",
    "plt.show()"
   ]
  },
  {
   "cell_type": "markdown",
   "id": "fb20a2bf",
   "metadata": {},
   "source": [
    "#### Observations:\n",
    "1) Partnered cusomers are more for all three products."
   ]
  },
  {
   "cell_type": "code",
   "execution_count": 13,
   "id": "6734f304",
   "metadata": {},
   "outputs": [
    {
     "data": {
      "image/png": "[encoded data removed]",
      "text/plain": [
       "<Figure size 432x288 with 1 Axes>"
      ]
     },
     "metadata": {
      "needs_background": "light"
     },
     "output_type": "display_data"
    }
   ],
   "source": [
    "sns.countplot(x = df[\"Fitness\"], hue = df[\"Product\"])\n",
    "plt.show()"
   ]
  },
  {
   "cell_type": "markdown",
   "id": "ed1eef42",
   "metadata": {},
   "source": [
    "#### Observations:\n",
    "1) Fit people are prefering KP781 and average people going for KP281 and KP481 "
   ]
  },
  {
   "cell_type": "code",
   "execution_count": 14,
   "id": "24569338",
   "metadata": {},
   "outputs": [
    {
     "data": {
      "text/plain": [
       "count    180.000000\n",
       "mean      28.788889\n",
       "std        6.943498\n",
       "min       18.000000\n",
       "25%       24.000000\n",
       "50%       26.000000\n",
       "75%       33.000000\n",
       "max       50.000000\n",
       "Name: Age, dtype: float64"
      ]
     },
     "execution_count": 14,
     "metadata": {},
     "output_type": "execute_result"
    }
   ],
   "source": [
    "df[\"Age\"].describe()"
   ]
  },
  {
   "cell_type": "code",
   "execution_count": 15,
   "id": "8e74528c",
   "metadata": {},
   "outputs": [],
   "source": [
    "df[\"Age_bins\"] = pd.cut(df[\"Age\"],bins = [15,20,25,30,35,40,45,50], \n",
    "                        labels = [\"15-20\",\"21-25\",\"26-30\",\"31-35\",\"36-40\",\"41-45\",\"46-50\"])"
   ]
  },
  {
   "cell_type": "code",
   "execution_count": 16,
   "id": "6e097b5c",
   "metadata": {},
   "outputs": [
    {
     "data": {
      "image/png": "[encoded data removed]",
      "text/plain": [
       "<Figure size 432x288 with 1 Axes>"
      ]
     },
     "metadata": {
      "needs_background": "light"
     },
     "output_type": "display_data"
    }
   ],
   "source": [
    "\n",
    "sns.boxplot(x = \"Age_bins\", y = \"Income\" , data = df)\n",
    "plt.show()"
   ]
  },
  {
   "cell_type": "code",
   "execution_count": 17,
   "id": "dd7d2637",
   "metadata": {},
   "outputs": [
    {
     "data": {
      "image/png": "[encoded data removed]",
      "text/plain": [
       "<Figure size 432x288 with 1 Axes>"
      ]
     },
     "metadata": {
      "needs_background": "light"
     },
     "output_type": "display_data"
    }
   ],
   "source": [
    "sns.lineplot(x = \"Age_bins\", y = \"Income\" , data = df)\n",
    "plt.show()"
   ]
  },
  {
   "cell_type": "markdown",
   "id": "76df82aa",
   "metadata": {},
   "source": [
    "#### Observations:\n",
    "1) As age increases income also increases."
   ]
  },
  {
   "cell_type": "code",
   "execution_count": 18,
   "id": "0ed24882",
   "metadata": {},
   "outputs": [
    {
     "data": {
      "image/png": "[encoded data removed]",
      "text/plain": [
       "<Figure size 432x288 with 1 Axes>"
      ]
     },
     "metadata": {
      "needs_background": "light"
     },
     "output_type": "display_data"
    }
   ],
   "source": [
    "sns.countplot(x = df[\"Age_bins\"], hue = df[\"Product\"])\n",
    "plt.show()"
   ]
  },
  {
   "cell_type": "markdown",
   "id": "bcd23678",
   "metadata": {},
   "source": [
    "#### Observations:\n",
    "1) People in the age group of \"21-25\" are more interested in fitness.\n",
    "\n",
    "2) In all age groups KP281 is the most prefered product except \"31-35\" age group where KP481 is prefered.\n"
   ]
  },
  {
   "cell_type": "markdown",
   "id": "b24a6c06",
   "metadata": {},
   "source": [
    "#### Suggestion:\n",
    "1) Target people in the age group of \"21-40\""
   ]
  },
  {
   "cell_type": "code",
   "execution_count": 19,
   "id": "851926a7",
   "metadata": {},
   "outputs": [
    {
     "data": {
      "image/png": "[encoded data removed]",
      "text/plain": [
       "<Figure size 432x288 with 1 Axes>"
      ]
     },
     "metadata": {
      "needs_background": "light"
     },
     "output_type": "display_data"
    }
   ],
   "source": [
    "sns.boxplot(x = \"MaritalStatus\", y = \"Income\" , data = df)\n",
    "plt.show()"
   ]
  },
  {
   "cell_type": "markdown",
   "id": "d39e75d8",
   "metadata": {},
   "source": [
    "#### Observations :\n",
    "1) Single customers have lower income than Partnered\n"
   ]
  },
  {
   "cell_type": "code",
   "execution_count": 20,
   "id": "74444693",
   "metadata": {},
   "outputs": [
    {
     "data": {
      "image/png": "[encoded data removed]",
      "text/plain": [
       "<Figure size 432x288 with 1 Axes>"
      ]
     },
     "metadata": {
      "needs_background": "light"
     },
     "output_type": "display_data"
    }
   ],
   "source": [
    "sns.boxplot(x = \"Gender\", y = \"Income\" , data = df)\n",
    "plt.show()"
   ]
  },
  {
   "cell_type": "markdown",
   "id": "cf9600ed",
   "metadata": {},
   "source": [
    "#### Observations :\n",
    "1) Male customers have higher income than Female"
   ]
  },
  {
   "cell_type": "code",
   "execution_count": 21,
   "id": "03956463",
   "metadata": {
    "scrolled": true
   },
   "outputs": [
    {
     "data": {
      "image/png": "[encoded data removed]",
      "text/plain": [
       "<Figure size 432x288 with 1 Axes>"
      ]
     },
     "metadata": {
      "needs_background": "light"
     },
     "output_type": "display_data"
    }
   ],
   "source": [
    "sns.boxplot(x = \"Gender\", y = \"Income\", data = df, hue = \"Product\")\n",
    "plt.show()"
   ]
  },
  {
   "cell_type": "markdown",
   "id": "b3658b99",
   "metadata": {},
   "source": [
    "#### Observations :\n",
    "1) Customers with higher income tend to buy KP781\n",
    "\n",
    "2) Customers dont find KP481 more value for money product than KP281\n",
    "\n",
    "3) There is no much difference in median income of male and female who are buying KP281 and KP481 .\n",
    "\n",
    "4) There is difference in median income of male and female who are buying KP781\n",
    "\n",
    "#### Suggestion:\n",
    "1) Improve some features of KP481 and increase its price also."
   ]
  },
  {
   "cell_type": "code",
   "execution_count": 22,
   "id": "8c9f34f5",
   "metadata": {},
   "outputs": [
    {
     "data": {
      "image/png": "[encoded data removed]",
      "text/plain": [
       "<Figure size 432x288 with 1 Axes>"
      ]
     },
     "metadata": {
      "needs_background": "light"
     },
     "output_type": "display_data"
    }
   ],
   "source": [
    "sns.boxplot(x = \"Gender\", y = \"Miles\", data = df, hue = \"Product\")\n",
    "plt.show()"
   ]
  },
  {
   "cell_type": "markdown",
   "id": "fe49d835",
   "metadata": {},
   "source": [
    "#### Observations:\n",
    "1) People who are fitness freak buys KP781"
   ]
  },
  {
   "cell_type": "code",
   "execution_count": 23,
   "id": "58ac7b55",
   "metadata": {},
   "outputs": [
    {
     "data": {
      "image/png": "[encoded data removed]",
      "text/plain": [
       "<Figure size 432x288 with 1 Axes>"
      ]
     },
     "metadata": {
      "needs_background": "light"
     },
     "output_type": "display_data"
    }
   ],
   "source": [
    "sns.boxplot(x = \"Gender\", y = \"Education\", data = df, hue = \"Product\")\n",
    "plt.show()"
   ]
  },
  {
   "cell_type": "markdown",
   "id": "bf497eef",
   "metadata": {},
   "source": [
    "#### Observations:\n",
    "1) Highly educated people buy KP781 "
   ]
  },
  {
   "cell_type": "code",
   "execution_count": 24,
   "id": "09f002c3",
   "metadata": {},
   "outputs": [
    {
     "data": {
      "image/png": "[encoded data removed]",
      "text/plain": [
       "<Figure size 432x288 with 2 Axes>"
      ]
     },
     "metadata": {
      "needs_background": "light"
     },
     "output_type": "display_data"
    }
   ],
   "source": [
    "sns.heatmap(df.corr(), annot = True)\n",
    "plt.show()"
   ]
  },
  {
   "cell_type": "markdown",
   "id": "1ead1af3",
   "metadata": {},
   "source": [
    "#### Observations:\n",
    "1) Highly educated people have high income.\n",
    "\n",
    "2) Fit people runs more.\n",
    "\n",
    "3) People who runs more have very high usage"
   ]
  },
  {
   "cell_type": "markdown",
   "id": "bb97392e",
   "metadata": {},
   "source": [
    "### Marginal Probabilities:"
   ]
  },
  {
   "cell_type": "code",
   "execution_count": 25,
   "id": "9e3e1b33",
   "metadata": {},
   "outputs": [
    {
     "data": {
      "text/plain": [
       "KP281    44.444444\n",
       "KP481    33.333333\n",
       "KP781    22.222222\n",
       "Name: Product, dtype: float64"
      ]
     },
     "execution_count": 25,
     "metadata": {},
     "output_type": "execute_result"
    }
   ],
   "source": [
    "\n",
    "df[\"Product\"].value_counts(normalize = True)*100"
   ]
  },
  {
   "cell_type": "markdown",
   "id": "339914f2",
   "metadata": {},
   "source": [
    "#### Observations: \n",
    "1) p(people buying KP281) = 44.44%\n",
    "\n",
    "2) p(people buying KP481) = 33.33%\n",
    "\n",
    "3) p(people buying KP781) = 22.22%"
   ]
  },
  {
   "cell_type": "code",
   "execution_count": 26,
   "id": "57ce7225",
   "metadata": {},
   "outputs": [
    {
     "data": {
      "text/plain": [
       "Partnered    59.444444\n",
       "Single       40.555556\n",
       "Name: MaritalStatus, dtype: float64"
      ]
     },
     "execution_count": 26,
     "metadata": {},
     "output_type": "execute_result"
    }
   ],
   "source": [
    "df[\"MaritalStatus\"].value_counts(normalize = True)*100"
   ]
  },
  {
   "cell_type": "markdown",
   "id": "06c6c196",
   "metadata": {},
   "source": [
    "#### Observations:\n",
    "1) p(customer being partnered) = 59.44%\n",
    "\n",
    "2) p(customer being Single) =  40.56%"
   ]
  },
  {
   "cell_type": "code",
   "execution_count": 27,
   "id": "0805bbba",
   "metadata": {},
   "outputs": [
    {
     "data": {
      "text/plain": [
       "Male      57.777778\n",
       "Female    42.222222\n",
       "Name: Gender, dtype: float64"
      ]
     },
     "execution_count": 27,
     "metadata": {},
     "output_type": "execute_result"
    }
   ],
   "source": [
    "df[\"Gender\"].value_counts(normalize = True)*100"
   ]
  },
  {
   "cell_type": "markdown",
   "id": "a40596d3",
   "metadata": {},
   "source": [
    "#### Observations:\n",
    "1) p(customer being male) = 57.78%\n",
    "\n",
    "2) p(customer being female) = 42.22%"
   ]
  },
  {
   "cell_type": "markdown",
   "id": "a048e650",
   "metadata": {},
   "source": [
    "### Joint probabilities:"
   ]
  },
  {
   "cell_type": "code",
   "execution_count": 28,
   "id": "70567c2d",
   "metadata": {},
   "outputs": [
    {
     "data": {
      "text/html": [
       "<div>\n",
       "<style scoped>\n",
       "    .dataframe tbody tr th:only-of-type {\n",
       "        vertical-align: middle;\n",
       "    }\n",
       "\n",
       "    .dataframe tbody tr th {\n",
       "        vertical-align: top;\n",
       "    }\n",
       "\n",
       "    .dataframe thead th {\n",
       "        text-align: right;\n",
       "    }\n",
       "</style>\n",
       "<table border=\"1\" class=\"dataframe\">\n",
       "  <thead>\n",
       "    <tr style=\"text-align: right;\">\n",
       "      <th>Product</th>\n",
       "      <th>KP281</th>\n",
       "      <th>KP481</th>\n",
       "      <th>KP781</th>\n",
       "      <th>All</th>\n",
       "    </tr>\n",
       "    <tr>\n",
       "      <th>MaritalStatus</th>\n",
       "      <th></th>\n",
       "      <th></th>\n",
       "      <th></th>\n",
       "      <th></th>\n",
       "    </tr>\n",
       "  </thead>\n",
       "  <tbody>\n",
       "    <tr>\n",
       "      <th>Partnered</th>\n",
       "      <td>26.666667</td>\n",
       "      <td>20.000000</td>\n",
       "      <td>12.777778</td>\n",
       "      <td>59.444444</td>\n",
       "    </tr>\n",
       "    <tr>\n",
       "      <th>Single</th>\n",
       "      <td>17.777778</td>\n",
       "      <td>13.333333</td>\n",
       "      <td>9.444444</td>\n",
       "      <td>40.555556</td>\n",
       "    </tr>\n",
       "    <tr>\n",
       "      <th>All</th>\n",
       "      <td>44.444444</td>\n",
       "      <td>33.333333</td>\n",
       "      <td>22.222222</td>\n",
       "      <td>100.000000</td>\n",
       "    </tr>\n",
       "  </tbody>\n",
       "</table>\n",
       "</div>"
      ],
      "text/plain": [
       "Product            KP281      KP481      KP781         All\n",
       "MaritalStatus                                             \n",
       "Partnered      26.666667  20.000000  12.777778   59.444444\n",
       "Single         17.777778  13.333333   9.444444   40.555556\n",
       "All            44.444444  33.333333  22.222222  100.000000"
      ]
     },
     "execution_count": 28,
     "metadata": {},
     "output_type": "execute_result"
    }
   ],
   "source": [
    "pd.crosstab(columns = df[\"Product\"],\n",
    "           index = df[\"MaritalStatus\"],\n",
    "           normalize = True,\n",
    "           margins = True)*100"
   ]
  },
  {
   "cell_type": "markdown",
   "id": "156553af",
   "metadata": {},
   "source": [
    "#### Observations:\n",
    "1) p(customer being Single and buying KP281) = 17.78%\n",
    "\n",
    "2) p(customer being Single and buying KP481) = 13.33%\n",
    "\n",
    "3) p(customer being Single and buying KP781) = 9.44%\n",
    "\n",
    "4) p(customer being Partnered and buying KP281) = 26.66%\n",
    "\n",
    "5) p(customer being Partnered and buying KP481) = 20.00%\n",
    "\n",
    "6) p(customer being Partnered and buying KP781) = 12.78%\n",
    "\n"
   ]
  },
  {
   "cell_type": "code",
   "execution_count": 29,
   "id": "94c9c283",
   "metadata": {},
   "outputs": [
    {
     "data": {
      "text/html": [
       "<div>\n",
       "<style scoped>\n",
       "    .dataframe tbody tr th:only-of-type {\n",
       "        vertical-align: middle;\n",
       "    }\n",
       "\n",
       "    .dataframe tbody tr th {\n",
       "        vertical-align: top;\n",
       "    }\n",
       "\n",
       "    .dataframe thead th {\n",
       "        text-align: right;\n",
       "    }\n",
       "</style>\n",
       "<table border=\"1\" class=\"dataframe\">\n",
       "  <thead>\n",
       "    <tr style=\"text-align: right;\">\n",
       "      <th>Product</th>\n",
       "      <th>KP281</th>\n",
       "      <th>KP481</th>\n",
       "      <th>KP781</th>\n",
       "      <th>All</th>\n",
       "    </tr>\n",
       "    <tr>\n",
       "      <th>Gender</th>\n",
       "      <th></th>\n",
       "      <th></th>\n",
       "      <th></th>\n",
       "      <th></th>\n",
       "    </tr>\n",
       "  </thead>\n",
       "  <tbody>\n",
       "    <tr>\n",
       "      <th>Female</th>\n",
       "      <td>22.222222</td>\n",
       "      <td>16.111111</td>\n",
       "      <td>3.888889</td>\n",
       "      <td>42.222222</td>\n",
       "    </tr>\n",
       "    <tr>\n",
       "      <th>Male</th>\n",
       "      <td>22.222222</td>\n",
       "      <td>17.222222</td>\n",
       "      <td>18.333333</td>\n",
       "      <td>57.777778</td>\n",
       "    </tr>\n",
       "    <tr>\n",
       "      <th>All</th>\n",
       "      <td>44.444444</td>\n",
       "      <td>33.333333</td>\n",
       "      <td>22.222222</td>\n",
       "      <td>100.000000</td>\n",
       "    </tr>\n",
       "  </tbody>\n",
       "</table>\n",
       "</div>"
      ],
      "text/plain": [
       "Product      KP281      KP481      KP781         All\n",
       "Gender                                              \n",
       "Female   22.222222  16.111111   3.888889   42.222222\n",
       "Male     22.222222  17.222222  18.333333   57.777778\n",
       "All      44.444444  33.333333  22.222222  100.000000"
      ]
     },
     "execution_count": 29,
     "metadata": {},
     "output_type": "execute_result"
    }
   ],
   "source": [
    "pd.crosstab(columns = df[\"Product\"], \n",
    "            index= df[\"Gender\"],\n",
    "            margins = True,\n",
    "            normalize = True)*100"
   ]
  },
  {
   "cell_type": "markdown",
   "id": "04b630b3",
   "metadata": {},
   "source": [
    "#### Observations:\n",
    "1) p(customer being male and buying KP281) = 22.22%\n",
    "\n",
    "2) p(customer being male and buying KP481) = 17.22%\n",
    "\n",
    "3) p(customer being male and buying KP781) = 18.33%\n",
    "\n",
    "4) p(customer being female and buying KP281) = 22.22%\n",
    "\n",
    "5) p(customer being female and buying KP481) = 16.11%\n",
    "\n",
    "6) p(customer being female and buying KP781) = 3.88%"
   ]
  },
  {
   "cell_type": "markdown",
   "id": "e9f00c6b",
   "metadata": {},
   "source": [
    "### Conditional probabilities:"
   ]
  },
  {
   "cell_type": "code",
   "execution_count": 30,
   "id": "710e23d6",
   "metadata": {},
   "outputs": [
    {
     "data": {
      "text/html": [
       "<div>\n",
       "<style scoped>\n",
       "    .dataframe tbody tr th:only-of-type {\n",
       "        vertical-align: middle;\n",
       "    }\n",
       "\n",
       "    .dataframe tbody tr th {\n",
       "        vertical-align: top;\n",
       "    }\n",
       "\n",
       "    .dataframe thead th {\n",
       "        text-align: right;\n",
       "    }\n",
       "</style>\n",
       "<table border=\"1\" class=\"dataframe\">\n",
       "  <thead>\n",
       "    <tr style=\"text-align: right;\">\n",
       "      <th>Product</th>\n",
       "      <th>KP281</th>\n",
       "      <th>KP481</th>\n",
       "      <th>KP781</th>\n",
       "    </tr>\n",
       "    <tr>\n",
       "      <th>MaritalStatus</th>\n",
       "      <th></th>\n",
       "      <th></th>\n",
       "      <th></th>\n",
       "    </tr>\n",
       "  </thead>\n",
       "  <tbody>\n",
       "    <tr>\n",
       "      <th>Partnered</th>\n",
       "      <td>44.859813</td>\n",
       "      <td>33.644860</td>\n",
       "      <td>21.495327</td>\n",
       "    </tr>\n",
       "    <tr>\n",
       "      <th>Single</th>\n",
       "      <td>43.835616</td>\n",
       "      <td>32.876712</td>\n",
       "      <td>23.287671</td>\n",
       "    </tr>\n",
       "    <tr>\n",
       "      <th>All</th>\n",
       "      <td>44.444444</td>\n",
       "      <td>33.333333</td>\n",
       "      <td>22.222222</td>\n",
       "    </tr>\n",
       "  </tbody>\n",
       "</table>\n",
       "</div>"
      ],
      "text/plain": [
       "Product            KP281      KP481      KP781\n",
       "MaritalStatus                                 \n",
       "Partnered      44.859813  33.644860  21.495327\n",
       "Single         43.835616  32.876712  23.287671\n",
       "All            44.444444  33.333333  22.222222"
      ]
     },
     "execution_count": 30,
     "metadata": {},
     "output_type": "execute_result"
    }
   ],
   "source": [
    "pd.crosstab(columns = df[\"Product\"], \n",
    "            index= df[\"MaritalStatus\"],\n",
    "            margins = True, \n",
    "            normalize = \"index\")*100"
   ]
  },
  {
   "cell_type": "markdown",
   "id": "2360b548",
   "metadata": {},
   "source": [
    "#### Observations:\n",
    "1) p( KP781 | Partnered) = 21.50%\n",
    "\n",
    "2) p( KP781 | Single) = 23.29%\n",
    "\n",
    "3) p( KP481 | Partnered) = 33.64%\n",
    "\n",
    "4) p( KP481 | Single) = 32.88%\n",
    "\n",
    "5) p( KP281 | Partnered) = 44.86%\n",
    "\n",
    "6) p( KP281 | Single) = 43.84%\n"
   ]
  },
  {
   "cell_type": "markdown",
   "id": "de6b543d",
   "metadata": {},
   "source": [
    "### Customer profiling:\n"
   ]
  },
  {
   "cell_type": "markdown",
   "id": "bef1aa05",
   "metadata": {},
   "source": [
    "#### Profile1:high income, highly educated fit male"
   ]
  },
  {
   "cell_type": "code",
   "execution_count": 69,
   "id": "9f7c4aeb",
   "metadata": {},
   "outputs": [
    {
     "data": {
      "text/html": [
       "<div>\n",
       "<style scoped>\n",
       "    .dataframe tbody tr th:only-of-type {\n",
       "        vertical-align: middle;\n",
       "    }\n",
       "\n",
       "    .dataframe tbody tr th {\n",
       "        vertical-align: top;\n",
       "    }\n",
       "\n",
       "    .dataframe thead th {\n",
       "        text-align: right;\n",
       "    }\n",
       "</style>\n",
       "<table border=\"1\" class=\"dataframe\">\n",
       "  <thead>\n",
       "    <tr style=\"text-align: right;\">\n",
       "      <th></th>\n",
       "      <th>Product</th>\n",
       "      <th>Age</th>\n",
       "      <th>Gender</th>\n",
       "      <th>Education</th>\n",
       "      <th>MaritalStatus</th>\n",
       "      <th>Usage</th>\n",
       "      <th>Fitness</th>\n",
       "      <th>Income</th>\n",
       "      <th>Miles</th>\n",
       "      <th>Age_bins</th>\n",
       "    </tr>\n",
       "  </thead>\n",
       "  <tbody>\n",
       "    <tr>\n",
       "      <th>72</th>\n",
       "      <td>KP281</td>\n",
       "      <td>39</td>\n",
       "      <td>Male</td>\n",
       "      <td>16</td>\n",
       "      <td>Partnered</td>\n",
       "      <td>4</td>\n",
       "      <td>4</td>\n",
       "      <td>59124</td>\n",
       "      <td>132</td>\n",
       "      <td>36-40</td>\n",
       "    </tr>\n",
       "    <tr>\n",
       "      <th>126</th>\n",
       "      <td>KP481</td>\n",
       "      <td>34</td>\n",
       "      <td>Male</td>\n",
       "      <td>16</td>\n",
       "      <td>Partnered</td>\n",
       "      <td>3</td>\n",
       "      <td>4</td>\n",
       "      <td>59124</td>\n",
       "      <td>85</td>\n",
       "      <td>31-35</td>\n",
       "    </tr>\n",
       "    <tr>\n",
       "      <th>141</th>\n",
       "      <td>KP781</td>\n",
       "      <td>22</td>\n",
       "      <td>Male</td>\n",
       "      <td>16</td>\n",
       "      <td>Single</td>\n",
       "      <td>3</td>\n",
       "      <td>5</td>\n",
       "      <td>54781</td>\n",
       "      <td>120</td>\n",
       "      <td>21-25</td>\n",
       "    </tr>\n",
       "    <tr>\n",
       "      <th>143</th>\n",
       "      <td>KP781</td>\n",
       "      <td>23</td>\n",
       "      <td>Male</td>\n",
       "      <td>16</td>\n",
       "      <td>Single</td>\n",
       "      <td>4</td>\n",
       "      <td>5</td>\n",
       "      <td>58516</td>\n",
       "      <td>140</td>\n",
       "      <td>21-25</td>\n",
       "    </tr>\n",
       "    <tr>\n",
       "      <th>146</th>\n",
       "      <td>KP781</td>\n",
       "      <td>24</td>\n",
       "      <td>Male</td>\n",
       "      <td>16</td>\n",
       "      <td>Single</td>\n",
       "      <td>4</td>\n",
       "      <td>5</td>\n",
       "      <td>61006</td>\n",
       "      <td>100</td>\n",
       "      <td>21-25</td>\n",
       "    </tr>\n",
       "    <tr>\n",
       "      <th>147</th>\n",
       "      <td>KP781</td>\n",
       "      <td>24</td>\n",
       "      <td>Male</td>\n",
       "      <td>18</td>\n",
       "      <td>Partnered</td>\n",
       "      <td>4</td>\n",
       "      <td>5</td>\n",
       "      <td>57271</td>\n",
       "      <td>80</td>\n",
       "      <td>21-25</td>\n",
       "    </tr>\n",
       "    <tr>\n",
       "      <th>151</th>\n",
       "      <td>KP781</td>\n",
       "      <td>25</td>\n",
       "      <td>Male</td>\n",
       "      <td>16</td>\n",
       "      <td>Partnered</td>\n",
       "      <td>4</td>\n",
       "      <td>4</td>\n",
       "      <td>62251</td>\n",
       "      <td>160</td>\n",
       "      <td>21-25</td>\n",
       "    </tr>\n",
       "    <tr>\n",
       "      <th>154</th>\n",
       "      <td>KP781</td>\n",
       "      <td>25</td>\n",
       "      <td>Male</td>\n",
       "      <td>18</td>\n",
       "      <td>Partnered</td>\n",
       "      <td>6</td>\n",
       "      <td>4</td>\n",
       "      <td>70966</td>\n",
       "      <td>180</td>\n",
       "      <td>21-25</td>\n",
       "    </tr>\n",
       "    <tr>\n",
       "      <th>155</th>\n",
       "      <td>KP781</td>\n",
       "      <td>25</td>\n",
       "      <td>Male</td>\n",
       "      <td>18</td>\n",
       "      <td>Partnered</td>\n",
       "      <td>6</td>\n",
       "      <td>5</td>\n",
       "      <td>75946</td>\n",
       "      <td>240</td>\n",
       "      <td>21-25</td>\n",
       "    </tr>\n",
       "    <tr>\n",
       "      <th>156</th>\n",
       "      <td>KP781</td>\n",
       "      <td>25</td>\n",
       "      <td>Male</td>\n",
       "      <td>20</td>\n",
       "      <td>Partnered</td>\n",
       "      <td>4</td>\n",
       "      <td>5</td>\n",
       "      <td>74701</td>\n",
       "      <td>170</td>\n",
       "      <td>21-25</td>\n",
       "    </tr>\n",
       "    <tr>\n",
       "      <th>158</th>\n",
       "      <td>KP781</td>\n",
       "      <td>26</td>\n",
       "      <td>Male</td>\n",
       "      <td>16</td>\n",
       "      <td>Partnered</td>\n",
       "      <td>5</td>\n",
       "      <td>4</td>\n",
       "      <td>64741</td>\n",
       "      <td>180</td>\n",
       "      <td>26-30</td>\n",
       "    </tr>\n",
       "    <tr>\n",
       "      <th>159</th>\n",
       "      <td>KP781</td>\n",
       "      <td>27</td>\n",
       "      <td>Male</td>\n",
       "      <td>16</td>\n",
       "      <td>Partnered</td>\n",
       "      <td>4</td>\n",
       "      <td>5</td>\n",
       "      <td>83416</td>\n",
       "      <td>160</td>\n",
       "      <td>26-30</td>\n",
       "    </tr>\n",
       "    <tr>\n",
       "      <th>161</th>\n",
       "      <td>KP781</td>\n",
       "      <td>27</td>\n",
       "      <td>Male</td>\n",
       "      <td>21</td>\n",
       "      <td>Partnered</td>\n",
       "      <td>4</td>\n",
       "      <td>4</td>\n",
       "      <td>90886</td>\n",
       "      <td>100</td>\n",
       "      <td>26-30</td>\n",
       "    </tr>\n",
       "    <tr>\n",
       "      <th>163</th>\n",
       "      <td>KP781</td>\n",
       "      <td>28</td>\n",
       "      <td>Male</td>\n",
       "      <td>18</td>\n",
       "      <td>Partnered</td>\n",
       "      <td>7</td>\n",
       "      <td>5</td>\n",
       "      <td>77191</td>\n",
       "      <td>180</td>\n",
       "      <td>26-30</td>\n",
       "    </tr>\n",
       "    <tr>\n",
       "      <th>164</th>\n",
       "      <td>KP781</td>\n",
       "      <td>28</td>\n",
       "      <td>Male</td>\n",
       "      <td>18</td>\n",
       "      <td>Single</td>\n",
       "      <td>6</td>\n",
       "      <td>5</td>\n",
       "      <td>88396</td>\n",
       "      <td>150</td>\n",
       "      <td>26-30</td>\n",
       "    </tr>\n",
       "    <tr>\n",
       "      <th>168</th>\n",
       "      <td>KP781</td>\n",
       "      <td>30</td>\n",
       "      <td>Male</td>\n",
       "      <td>18</td>\n",
       "      <td>Partnered</td>\n",
       "      <td>5</td>\n",
       "      <td>4</td>\n",
       "      <td>103336</td>\n",
       "      <td>160</td>\n",
       "      <td>26-30</td>\n",
       "    </tr>\n",
       "    <tr>\n",
       "      <th>169</th>\n",
       "      <td>KP781</td>\n",
       "      <td>30</td>\n",
       "      <td>Male</td>\n",
       "      <td>18</td>\n",
       "      <td>Partnered</td>\n",
       "      <td>5</td>\n",
       "      <td>5</td>\n",
       "      <td>99601</td>\n",
       "      <td>150</td>\n",
       "      <td>26-30</td>\n",
       "    </tr>\n",
       "    <tr>\n",
       "      <th>170</th>\n",
       "      <td>KP781</td>\n",
       "      <td>31</td>\n",
       "      <td>Male</td>\n",
       "      <td>16</td>\n",
       "      <td>Partnered</td>\n",
       "      <td>6</td>\n",
       "      <td>5</td>\n",
       "      <td>89641</td>\n",
       "      <td>260</td>\n",
       "      <td>31-35</td>\n",
       "    </tr>\n",
       "    <tr>\n",
       "      <th>172</th>\n",
       "      <td>KP781</td>\n",
       "      <td>34</td>\n",
       "      <td>Male</td>\n",
       "      <td>16</td>\n",
       "      <td>Single</td>\n",
       "      <td>5</td>\n",
       "      <td>5</td>\n",
       "      <td>92131</td>\n",
       "      <td>150</td>\n",
       "      <td>31-35</td>\n",
       "    </tr>\n",
       "    <tr>\n",
       "      <th>173</th>\n",
       "      <td>KP781</td>\n",
       "      <td>35</td>\n",
       "      <td>Male</td>\n",
       "      <td>16</td>\n",
       "      <td>Partnered</td>\n",
       "      <td>4</td>\n",
       "      <td>5</td>\n",
       "      <td>92131</td>\n",
       "      <td>360</td>\n",
       "      <td>31-35</td>\n",
       "    </tr>\n",
       "    <tr>\n",
       "      <th>174</th>\n",
       "      <td>KP781</td>\n",
       "      <td>38</td>\n",
       "      <td>Male</td>\n",
       "      <td>18</td>\n",
       "      <td>Partnered</td>\n",
       "      <td>5</td>\n",
       "      <td>5</td>\n",
       "      <td>104581</td>\n",
       "      <td>150</td>\n",
       "      <td>36-40</td>\n",
       "    </tr>\n",
       "    <tr>\n",
       "      <th>175</th>\n",
       "      <td>KP781</td>\n",
       "      <td>40</td>\n",
       "      <td>Male</td>\n",
       "      <td>21</td>\n",
       "      <td>Single</td>\n",
       "      <td>6</td>\n",
       "      <td>5</td>\n",
       "      <td>83416</td>\n",
       "      <td>200</td>\n",
       "      <td>36-40</td>\n",
       "    </tr>\n",
       "    <tr>\n",
       "      <th>176</th>\n",
       "      <td>KP781</td>\n",
       "      <td>42</td>\n",
       "      <td>Male</td>\n",
       "      <td>18</td>\n",
       "      <td>Single</td>\n",
       "      <td>5</td>\n",
       "      <td>4</td>\n",
       "      <td>89641</td>\n",
       "      <td>200</td>\n",
       "      <td>41-45</td>\n",
       "    </tr>\n",
       "    <tr>\n",
       "      <th>177</th>\n",
       "      <td>KP781</td>\n",
       "      <td>45</td>\n",
       "      <td>Male</td>\n",
       "      <td>16</td>\n",
       "      <td>Single</td>\n",
       "      <td>5</td>\n",
       "      <td>5</td>\n",
       "      <td>90886</td>\n",
       "      <td>160</td>\n",
       "      <td>41-45</td>\n",
       "    </tr>\n",
       "    <tr>\n",
       "      <th>178</th>\n",
       "      <td>KP781</td>\n",
       "      <td>47</td>\n",
       "      <td>Male</td>\n",
       "      <td>18</td>\n",
       "      <td>Partnered</td>\n",
       "      <td>4</td>\n",
       "      <td>5</td>\n",
       "      <td>104581</td>\n",
       "      <td>120</td>\n",
       "      <td>46-50</td>\n",
       "    </tr>\n",
       "    <tr>\n",
       "      <th>179</th>\n",
       "      <td>KP781</td>\n",
       "      <td>48</td>\n",
       "      <td>Male</td>\n",
       "      <td>18</td>\n",
       "      <td>Partnered</td>\n",
       "      <td>4</td>\n",
       "      <td>5</td>\n",
       "      <td>95508</td>\n",
       "      <td>180</td>\n",
       "      <td>46-50</td>\n",
       "    </tr>\n",
       "  </tbody>\n",
       "</table>\n",
       "</div>"
      ],
      "text/plain": [
       "    Product  Age Gender  Education MaritalStatus  Usage  Fitness  Income  \\\n",
       "72    KP281   39   Male         16     Partnered      4        4   59124   \n",
       "126   KP481   34   Male         16     Partnered      3        4   59124   \n",
       "141   KP781   22   Male         16        Single      3        5   54781   \n",
       "143   KP781   23   Male         16        Single      4        5   58516   \n",
       "146   KP781   24   Male         16        Single      4        5   61006   \n",
       "147   KP781   24   Male         18     Partnered      4        5   57271   \n",
       "151   KP781   25   Male         16     Partnered      4        4   62251   \n",
       "154   KP781   25   Male         18     Partnered      6        4   70966   \n",
       "155   KP781   25   Male         18     Partnered      6        5   75946   \n",
       "156   KP781   25   Male         20     Partnered      4        5   74701   \n",
       "158   KP781   26   Male         16     Partnered      5        4   64741   \n",
       "159   KP781   27   Male         16     Partnered      4        5   83416   \n",
       "161   KP781   27   Male         21     Partnered      4        4   90886   \n",
       "163   KP781   28   Male         18     Partnered      7        5   77191   \n",
       "164   KP781   28   Male         18        Single      6        5   88396   \n",
       "168   KP781   30   Male         18     Partnered      5        4  103336   \n",
       "169   KP781   30   Male         18     Partnered      5        5   99601   \n",
       "170   KP781   31   Male         16     Partnered      6        5   89641   \n",
       "172   KP781   34   Male         16        Single      5        5   92131   \n",
       "173   KP781   35   Male         16     Partnered      4        5   92131   \n",
       "174   KP781   38   Male         18     Partnered      5        5  104581   \n",
       "175   KP781   40   Male         21        Single      6        5   83416   \n",
       "176   KP781   42   Male         18        Single      5        4   89641   \n",
       "177   KP781   45   Male         16        Single      5        5   90886   \n",
       "178   KP781   47   Male         18     Partnered      4        5  104581   \n",
       "179   KP781   48   Male         18     Partnered      4        5   95508   \n",
       "\n",
       "     Miles Age_bins  \n",
       "72     132    36-40  \n",
       "126     85    31-35  \n",
       "141    120    21-25  \n",
       "143    140    21-25  \n",
       "146    100    21-25  \n",
       "147     80    21-25  \n",
       "151    160    21-25  \n",
       "154    180    21-25  \n",
       "155    240    21-25  \n",
       "156    170    21-25  \n",
       "158    180    26-30  \n",
       "159    160    26-30  \n",
       "161    100    26-30  \n",
       "163    180    26-30  \n",
       "164    150    26-30  \n",
       "168    160    26-30  \n",
       "169    150    26-30  \n",
       "170    260    31-35  \n",
       "172    150    31-35  \n",
       "173    360    31-35  \n",
       "174    150    36-40  \n",
       "175    200    36-40  \n",
       "176    200    41-45  \n",
       "177    160    41-45  \n",
       "178    120    46-50  \n",
       "179    180    46-50  "
      ]
     },
     "execution_count": 69,
     "metadata": {},
     "output_type": "execute_result"
    }
   ],
   "source": [
    "c1 = (df[\"Income\"]>=df[\"Income\"].mean())\n",
    "c2 = (df[\"Education\"]>=df[\"Education\"].mean())\n",
    "c3 = (df[\"Fitness\"]>=df[\"Fitness\"].mean())\n",
    "c4 = (df[\"Gender\"]== \"Male\")\n",
    "\n",
    "profile1 = df[c1 & c2 & c3 & c4]\n",
    "profile1\n"
   ]
  },
  {
   "cell_type": "code",
   "execution_count": 70,
   "id": "7e1ecb5a",
   "metadata": {},
   "outputs": [
    {
     "data": {
      "text/plain": [
       "KP781    92.307692\n",
       "KP281     3.846154\n",
       "KP481     3.846154\n",
       "Name: Product, dtype: float64"
      ]
     },
     "execution_count": 70,
     "metadata": {},
     "output_type": "execute_result"
    }
   ],
   "source": [
    "profile1[\"Product\"].value_counts(normalize = True)*100"
   ]
  },
  {
   "cell_type": "markdown",
   "id": "411789cd",
   "metadata": {},
   "source": [
    "#### Observations:\n",
    "1) 92.3% is the probability that high income, highly educated fit male will buy KP781"
   ]
  },
  {
   "cell_type": "markdown",
   "id": "0a66035a",
   "metadata": {},
   "source": [
    "#### Profile2: average/ less fit, average/less usage "
   ]
  },
  {
   "cell_type": "code",
   "execution_count": 75,
   "id": "309c3cfd",
   "metadata": {},
   "outputs": [
    {
     "data": {
      "text/html": [
       "<div>\n",
       "<style scoped>\n",
       "    .dataframe tbody tr th:only-of-type {\n",
       "        vertical-align: middle;\n",
       "    }\n",
       "\n",
       "    .dataframe tbody tr th {\n",
       "        vertical-align: top;\n",
       "    }\n",
       "\n",
       "    .dataframe thead th {\n",
       "        text-align: right;\n",
       "    }\n",
       "</style>\n",
       "<table border=\"1\" class=\"dataframe\">\n",
       "  <thead>\n",
       "    <tr style=\"text-align: right;\">\n",
       "      <th></th>\n",
       "      <th>Product</th>\n",
       "      <th>Age</th>\n",
       "      <th>Gender</th>\n",
       "      <th>Education</th>\n",
       "      <th>MaritalStatus</th>\n",
       "      <th>Usage</th>\n",
       "      <th>Fitness</th>\n",
       "      <th>Income</th>\n",
       "      <th>Miles</th>\n",
       "      <th>Age_bins</th>\n",
       "    </tr>\n",
       "  </thead>\n",
       "  <tbody>\n",
       "    <tr>\n",
       "      <th>1</th>\n",
       "      <td>KP281</td>\n",
       "      <td>19</td>\n",
       "      <td>Male</td>\n",
       "      <td>15</td>\n",
       "      <td>Single</td>\n",
       "      <td>2</td>\n",
       "      <td>3</td>\n",
       "      <td>31836</td>\n",
       "      <td>75</td>\n",
       "      <td>15-20</td>\n",
       "    </tr>\n",
       "    <tr>\n",
       "      <th>3</th>\n",
       "      <td>KP281</td>\n",
       "      <td>19</td>\n",
       "      <td>Male</td>\n",
       "      <td>12</td>\n",
       "      <td>Single</td>\n",
       "      <td>3</td>\n",
       "      <td>3</td>\n",
       "      <td>32973</td>\n",
       "      <td>85</td>\n",
       "      <td>15-20</td>\n",
       "    </tr>\n",
       "    <tr>\n",
       "      <th>5</th>\n",
       "      <td>KP281</td>\n",
       "      <td>20</td>\n",
       "      <td>Female</td>\n",
       "      <td>14</td>\n",
       "      <td>Partnered</td>\n",
       "      <td>3</td>\n",
       "      <td>3</td>\n",
       "      <td>32973</td>\n",
       "      <td>66</td>\n",
       "      <td>15-20</td>\n",
       "    </tr>\n",
       "    <tr>\n",
       "      <th>6</th>\n",
       "      <td>KP281</td>\n",
       "      <td>21</td>\n",
       "      <td>Female</td>\n",
       "      <td>14</td>\n",
       "      <td>Partnered</td>\n",
       "      <td>3</td>\n",
       "      <td>3</td>\n",
       "      <td>35247</td>\n",
       "      <td>75</td>\n",
       "      <td>21-25</td>\n",
       "    </tr>\n",
       "    <tr>\n",
       "      <th>7</th>\n",
       "      <td>KP281</td>\n",
       "      <td>21</td>\n",
       "      <td>Male</td>\n",
       "      <td>13</td>\n",
       "      <td>Single</td>\n",
       "      <td>3</td>\n",
       "      <td>3</td>\n",
       "      <td>32973</td>\n",
       "      <td>85</td>\n",
       "      <td>21-25</td>\n",
       "    </tr>\n",
       "    <tr>\n",
       "      <th>...</th>\n",
       "      <td>...</td>\n",
       "      <td>...</td>\n",
       "      <td>...</td>\n",
       "      <td>...</td>\n",
       "      <td>...</td>\n",
       "      <td>...</td>\n",
       "      <td>...</td>\n",
       "      <td>...</td>\n",
       "      <td>...</td>\n",
       "      <td>...</td>\n",
       "    </tr>\n",
       "    <tr>\n",
       "      <th>135</th>\n",
       "      <td>KP481</td>\n",
       "      <td>40</td>\n",
       "      <td>Female</td>\n",
       "      <td>16</td>\n",
       "      <td>Partnered</td>\n",
       "      <td>3</td>\n",
       "      <td>3</td>\n",
       "      <td>61398</td>\n",
       "      <td>85</td>\n",
       "      <td>36-40</td>\n",
       "    </tr>\n",
       "    <tr>\n",
       "      <th>136</th>\n",
       "      <td>KP481</td>\n",
       "      <td>40</td>\n",
       "      <td>Female</td>\n",
       "      <td>16</td>\n",
       "      <td>Single</td>\n",
       "      <td>3</td>\n",
       "      <td>3</td>\n",
       "      <td>57987</td>\n",
       "      <td>85</td>\n",
       "      <td>36-40</td>\n",
       "    </tr>\n",
       "    <tr>\n",
       "      <th>137</th>\n",
       "      <td>KP481</td>\n",
       "      <td>40</td>\n",
       "      <td>Male</td>\n",
       "      <td>16</td>\n",
       "      <td>Partnered</td>\n",
       "      <td>3</td>\n",
       "      <td>3</td>\n",
       "      <td>64809</td>\n",
       "      <td>95</td>\n",
       "      <td>36-40</td>\n",
       "    </tr>\n",
       "    <tr>\n",
       "      <th>138</th>\n",
       "      <td>KP481</td>\n",
       "      <td>45</td>\n",
       "      <td>Male</td>\n",
       "      <td>16</td>\n",
       "      <td>Partnered</td>\n",
       "      <td>2</td>\n",
       "      <td>2</td>\n",
       "      <td>54576</td>\n",
       "      <td>42</td>\n",
       "      <td>41-45</td>\n",
       "    </tr>\n",
       "    <tr>\n",
       "      <th>139</th>\n",
       "      <td>KP481</td>\n",
       "      <td>48</td>\n",
       "      <td>Male</td>\n",
       "      <td>16</td>\n",
       "      <td>Partnered</td>\n",
       "      <td>2</td>\n",
       "      <td>3</td>\n",
       "      <td>57987</td>\n",
       "      <td>64</td>\n",
       "      <td>46-50</td>\n",
       "    </tr>\n",
       "  </tbody>\n",
       "</table>\n",
       "<p>91 rows × 10 columns</p>\n",
       "</div>"
      ],
      "text/plain": [
       "    Product  Age  Gender  Education MaritalStatus  Usage  Fitness  Income  \\\n",
       "1     KP281   19    Male         15        Single      2        3   31836   \n",
       "3     KP281   19    Male         12        Single      3        3   32973   \n",
       "5     KP281   20  Female         14     Partnered      3        3   32973   \n",
       "6     KP281   21  Female         14     Partnered      3        3   35247   \n",
       "7     KP281   21    Male         13        Single      3        3   32973   \n",
       "..      ...  ...     ...        ...           ...    ...      ...     ...   \n",
       "135   KP481   40  Female         16     Partnered      3        3   61398   \n",
       "136   KP481   40  Female         16        Single      3        3   57987   \n",
       "137   KP481   40    Male         16     Partnered      3        3   64809   \n",
       "138   KP481   45    Male         16     Partnered      2        2   54576   \n",
       "139   KP481   48    Male         16     Partnered      2        3   57987   \n",
       "\n",
       "     Miles Age_bins  \n",
       "1       75    15-20  \n",
       "3       85    15-20  \n",
       "5       66    15-20  \n",
       "6       75    21-25  \n",
       "7       85    21-25  \n",
       "..     ...      ...  \n",
       "135     85    36-40  \n",
       "136     85    36-40  \n",
       "137     95    36-40  \n",
       "138     42    41-45  \n",
       "139     64    46-50  \n",
       "\n",
       "[91 rows x 10 columns]"
      ]
     },
     "execution_count": 75,
     "metadata": {},
     "output_type": "execute_result"
    }
   ],
   "source": [
    "c1 = (df[\"Fitness\"]<=3)\n",
    "c2 = (df[\"Usage\"]<=3)\n",
    "profile2 = df[c1 & c2]\n",
    "profile2"
   ]
  },
  {
   "cell_type": "code",
   "execution_count": 76,
   "id": "2e94e26c",
   "metadata": {},
   "outputs": [
    {
     "data": {
      "text/plain": [
       "KP281    56.043956\n",
       "KP481    43.956044\n",
       "Name: Product, dtype: float64"
      ]
     },
     "execution_count": 76,
     "metadata": {},
     "output_type": "execute_result"
    }
   ],
   "source": [
    "profile2[\"Product\"].value_counts(normalize = True)*100"
   ]
  },
  {
   "cell_type": "markdown",
   "id": "9b8fe46b",
   "metadata": {},
   "source": [
    "#### Observations:\n",
    "1) Less fit and less usage user go for KP281 and KP481\n",
    "\n",
    "2) No clear distinction between KP281 and KP481 ==> Users dont find KP481 attractive pricewise and featurewise"
   ]
  },
  {
   "cell_type": "markdown",
   "id": "a2e17e07",
   "metadata": {},
   "source": [
    "### Recommendations:\n",
    "1) Improve some features of KP481 and increase its price also.\n",
    "\n",
    "2) Target high income, highly educated fit male for KP781\n",
    "\n",
    "3) People in the age group of \"21-40\" are more aware about fitness so target them.\n",
    "\n",
    "4) Target less fit and less usage user for KP281."
   ]
  },
  {
   "cell_type": "code",
   "execution_count": null,
   "id": "391b7d0c",
   "metadata": {},
   "outputs": [],
   "source": []
  },
  {
   "cell_type": "code",
   "execution_count": null,
   "id": "56c553da",
   "metadata": {},
   "outputs": [],
   "source": []
  }
 ],
 "metadata": {
  "kernelspec": {
   "display_name": "Python 3",
   "language": "python",
   "name": "python3"
  },
  "language_info": {
   "codemirror_mode": {
    "name": "ipython",
    "version": 3
   },
   "file_extension": ".py",
   "mimetype": "text/x-python",
   "name": "python",
   "nbconvert_exporter": "python",
   "pygments_lexer": "ipython3",
   "version": "3.8.8"
  }
 },
 "nbformat": 4,
 "nbformat_minor": 5
}
